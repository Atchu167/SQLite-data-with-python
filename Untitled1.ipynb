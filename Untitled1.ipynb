{
  "nbformat": 4,
  "nbformat_minor": 0,
  "metadata": {
    "colab": {
      "provenance": [],
      "authorship_tag": "ABX9TyPAUbF8L30xPuvxxgRKJNQj",
      "include_colab_link": true
    },
    "kernelspec": {
      "name": "python3",
      "display_name": "Python 3"
    },
    "language_info": {
      "name": "python"
    }
  },
  "cells": [
    {
      "cell_type": "markdown",
      "metadata": {
        "id": "view-in-github",
        "colab_type": "text"
      },
      "source": [
        "<a href=\"https://colab.research.google.com/github/Atchu167/SQLite-data-with-python/blob/main/Untitled1.ipynb\" target=\"_parent\"><img src=\"https://colab.research.google.com/assets/colab-badge.svg\" alt=\"Open In Colab\"/></a>"
      ]
    },
    {
      "cell_type": "code",
      "execution_count": 3,
      "metadata": {
        "id": "KC7Ro8-FuAqq"
      },
      "outputs": [],
      "source": [
        "import sqlite3\n",
        "import pandas as pd\n",
        "import matplotlib.pyplot as plt\n"
      ]
    },
    {
      "cell_type": "code",
      "source": [
        "#Step 1: Create sample data\n",
        "data= [\n",
        "    ('Product A', 10, 20),\n",
        "    ('Product B', 5, 50),\n",
        "    ('Product C', 8, 30),\n",
        "    ('Product A', 7, 20),\n",
        "    ('Product B', 6, 50),\n",
        "    ('Product C', 10, 30),\n",
        "]"
      ],
      "metadata": {
        "id": "kSFx8JbIusb6"
      },
      "execution_count": 4,
      "outputs": []
    },
    {
      "cell_type": "code",
      "source": [
        "from sqlite3.dbapi2 import Cursor\n",
        "#Step 2: Create SQLite database and insert data\n",
        "conn= sqlite3.connect('sales_data.db')\n",
        "Cursor=conn.cursor()\n",
        "Cursor.execute(\"DROP TABLE IF EXISTS sales\")\n",
        "Cursor.execute(\"\"\"\n",
        "CREATE TABLE sales(\n",
        "    product TEXT,\n",
        "    quantity INTEGER,\n",
        "    price REAL\n",
        ")\n",
        "\"\"\")\n",
        "Cursor.executemany(\"INSERT INTO sales(product, quantity, price) VALUES(?, ?, ?)\", data)\n",
        "conn.commit()\n",
        "\n",
        "\n"
      ],
      "metadata": {
        "id": "Tk4lng6pvYr8"
      },
      "execution_count": 9,
      "outputs": []
    },
    {
      "cell_type": "code",
      "source": [
        "#Step 3: Run SQL Query to get summary\n",
        "query=\"\"\"\n",
        "SELECT product,\n",
        "      SUM(quantity) AS total_qty,\n",
        "      SUM(quantity * price) AS revenue\n",
        "FROM sales\n",
        "GROUP BY product\n",
        "\"\"\"\n",
        "df=pd.read_sql_query(query, conn)\n",
        "print(df)\n"
      ],
      "metadata": {
        "colab": {
          "base_uri": "https://localhost:8080/"
        },
        "id": "xYXVZ3w1ybM5",
        "outputId": "dcc4f455-e5a1-4acc-97ee-e80354e0ad58"
      },
      "execution_count": 15,
      "outputs": [
        {
          "output_type": "stream",
          "name": "stdout",
          "text": [
            "     product  total_qty  revenue\n",
            "0  Product A         17    340.0\n",
            "1  Product B         11    550.0\n",
            "2  Product C         18    540.0\n"
          ]
        }
      ]
    },
    {
      "cell_type": "code",
      "source": [
        "#Step 4: Plot Bar Chart\n",
        "plt.figure(figsize=(8,5))\n",
        "df.plot(kind='bar',x='product', y='revenue', legend=False, color='skyblue')\n",
        "plt.title(\"Total Revenue by Product\")\n",
        "plt.xlabel(\"Product\")\n",
        "plt.ylabel(\"Revenue\")\n",
        "plt.tight_layout()\n",
        "plt.savefig(\"sales_chart.png\")\n",
        "plt.close()"
      ],
      "metadata": {
        "colab": {
          "base_uri": "https://localhost:8080/",
          "height": 34
        },
        "id": "Dv4PR5gMz4CH",
        "outputId": "80836ee6-90f6-4bd9-a090-d1ed781741c2"
      },
      "execution_count": 19,
      "outputs": [
        {
          "output_type": "display_data",
          "data": {
            "text/plain": [
              "<Figure size 800x500 with 0 Axes>"
            ]
          },
          "metadata": {}
        }
      ]
    }
  ]
}